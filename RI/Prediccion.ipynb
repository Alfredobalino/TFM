{
 "cells": [
  {
   "cell_type": "code",
   "execution_count": 1,
   "metadata": {},
   "outputs": [
    {
     "name": "stderr",
     "output_type": "stream",
     "text": [
      "Using TensorFlow backend.\n"
     ]
    }
   ],
   "source": [
    "import numpy as np\n",
    "import tensorflow as tf\n",
    "import keras\n",
    "from keras.preprocessing.image import load_img, img_to_array\n",
    "from keras.models import load_model"
   ]
  },
  {
   "cell_type": "code",
   "execution_count": 17,
   "metadata": {},
   "outputs": [
    {
     "name": "stdout",
     "output_type": "stream",
     "text": [
      "pred: 5. Conglomerado silíceo con matriz limolítica arcillosa.\n"
     ]
    },
    {
     "data": {
      "text/plain": [
       "1"
      ]
     },
     "execution_count": 17,
     "metadata": {},
     "output_type": "execute_result"
    }
   ],
   "source": [
    "longitud, altura = 150, 150\n",
    "custom_objects={\"GlorotUniform\": tf.keras.initializers.glorot_uniform}\n",
    "modelo = \"./modelo/modelo.h5\"\n",
    "pesos_modelo = \"./modelo/pesos.h5\"\n",
    "#cnn = load_model(modelo)\n",
    "cnn = tf.keras.models.load_model(modelo)\n",
    "cnn.load_weights(pesos_modelo)\n",
    "\n",
    "\n",
    "\n",
    "\n",
    "def predict(file):\n",
    "  x = load_img(file, target_size=(longitud, altura))\n",
    "  x = img_to_array(x)\n",
    "  x = np.expand_dims(x, axis=0)\n",
    "  array = cnn.predict(x)\n",
    "  result = array[0]\n",
    "  answer = np.argmax(result)\n",
    "  if answer == 0:\n",
    "    print(\"pred: 6. Alternancias en ciclos de cuarzoarenitas y arcillolitas predominantemente rojos(verdes hacia techo).\")\n",
    "  elif answer == 1:\n",
    "    print(\"pred: 5. Conglomerado silíceo con matriz limolítica arcillosa.\")\n",
    "  elif answer == 2:\n",
    "    print(\"pred: 3. Calizas con Ostrócodos y Choráceas.\")\n",
    "\n",
    "\n",
    "\n",
    "  return answer\n",
    "\n",
    "predict('prueba6.jpg')"
   ]
  },
  {
   "cell_type": "code",
   "execution_count": null,
   "metadata": {},
   "outputs": [],
   "source": []
  },
  {
   "cell_type": "code",
   "execution_count": null,
   "metadata": {},
   "outputs": [],
   "source": []
  }
 ],
 "metadata": {
  "kernelspec": {
   "display_name": "Python 3",
   "language": "python",
   "name": "python3"
  },
  "language_info": {
   "codemirror_mode": {
    "name": "ipython",
    "version": 3
   },
   "file_extension": ".py",
   "mimetype": "text/x-python",
   "name": "python",
   "nbconvert_exporter": "python",
   "pygments_lexer": "ipython3",
   "version": "3.7.1"
  }
 },
 "nbformat": 4,
 "nbformat_minor": 2
}
