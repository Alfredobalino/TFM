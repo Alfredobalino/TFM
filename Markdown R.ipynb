{
 "cells": [
  {
   "cell_type": "markdown",
   "metadata": {},
   "source": [
    "# EXTRACCION DE DATOS EN R"
   ]
  },
  {
   "cell_type": "markdown",
   "metadata": {},
   "source": [
    "Para comenzar nosotros hemos trabajado esta parte de la practica con datos extraidos de la web de datos abiertos de la Comunidad de Madrid, en concreto con los Accidentes de trafico con implicacion de bicicletas en 2018 "
   ]
  },
  {
   "cell_type": "markdown",
   "metadata": {},
   "source": [
    "## Creamos las funciones"
   ]
  },
  {
   "cell_type": "markdown",
   "metadata": {},
   "source": [
    "##### Funcion que abre el archivo"
   ]
  },
  {
   "cell_type": "raw",
   "metadata": {},
   "source": [
    "library(readxl)\n",
    "AccidentesBicicletas_2018 <- read_excel(\"AccidentesBicicletas_2018.xlsx\")\n",
    "View(AccidentesBicicletas_2018)"
   ]
  },
  {
   "cell_type": "markdown",
   "metadata": {},
   "source": [
    "En esta primera parte nos hemos tenido que bajar la libreria \"readxl\", puesto que para leer los archivos excel necesitamos dicho complemento."
   ]
  },
  {
   "cell_type": "markdown",
   "metadata": {},
   "source": [
    "### Para saber el nombre de las columnas\n"
   ]
  },
  {
   "cell_type": "raw",
   "metadata": {},
   "source": [
    "colnames(AccidentesBicicletas_2018)"
   ]
  },
  {
   "cell_type": "markdown",
   "metadata": {},
   "source": [
    "###### Con esta primera funcion obtenemos estos datos"
   ]
  },
  {
   "cell_type": "raw",
   "metadata": {},
   "source": [
    " [1] \"FECHA\"              \"RANGO HORARIO\"      \"DIA SEMANA\"         \"DISTRITO\"           \"LUGAR ACCIDENTE\"    \"Nº\"                 \"Nº PARTE\"          \n",
    " [8] \"CPFA Granizo\"       \"CPFA Hielo\"         \"CPFA Lluvia\"        \"CPFA Niebla\"        \"CPFA Seco\"          \"CPFA Nieve\"         \"CPSV Mojada\"       \n",
    "[15] \"CPSV Aceite\"        \"CPSV Barro\"         \"CPSV Grava Suelta\"  \"CPSV Hielo\"         \"CPSV Seca Y Limpia\" \"* Nº VICTIMAS\"      \"TIPO ACCIDENTE\"    \n",
    "[22] \"Tipo Vehiculo\"      \"TIPO PERSONA\"       \"SEXO\"               \"LESIVIDAD\"          \"Tramo Edad\"  "
   ]
  },
  {
   "cell_type": "markdown",
   "metadata": {},
   "source": [
    "### Para saber el resumen de los datos"
   ]
  },
  {
   "cell_type": "raw",
   "metadata": {},
   "source": [
    "str(AccidentesBicicletas_2018)"
   ]
  },
  {
   "cell_type": "markdown",
   "metadata": {},
   "source": [
    "##### Con esta segunda funcion obtenemos estos datos"
   ]
  },
  {
   "cell_type": "raw",
   "metadata": {},
   "source": [
    "Classes ‘tbl_df’, ‘tbl’ and 'data.frame':\t700 obs. of  26 variables:\n",
    " $ FECHA             : POSIXct, format: \"2018-01-01\" \"2018-01-01\" \"2018-01-02\" \"2018-01-03\" ...\n",
    " $ RANGO HORARIO     : chr  \"DE 13:00 A 13:59\" \"DE 15:00 A 15:59\" \"DE 12:00 A 12:59\" \"DE 13:00 A 13:59\" ...\n",
    " $ DIA SEMANA        : chr  \"LUNES\" \"LUNES\" \"MARTES\" \"MIERCOLES\" ...\n",
    " $ DISTRITO          : chr  \"ARGANZUELA\" \"CENTRO\" \"SALAMANCA\" \"SALAMANCA\" ...\n",
    " $ LUGAR ACCIDENTE   : chr  \"CALLE DE ANCORA - PASEO DE LAS DELICIAS\" \"CALLE DE ALCALA NUM\" \"CALLE DE SERRANO - CALLE DEL CONDE DE ARANDA\" \"PLAZA DE LA INDEPENDENCIA NUM\" ...\n",
    " $ Nº                : num  0 44 0 5 35 0 0 0 0 0 ...\n",
    " $ Nº PARTE          : chr  \"2018/25\" \"2018/76\" \"2018/30\" \"2018/94\" ...\n",
    " $ CPFA Granizo      : chr  \"NO\" \"NO\" \"NO\" \"NO\" ...\n",
    " $ CPFA Hielo        : chr  \"NO\" \"NO\" \"NO\" \"NO\" ...\n",
    " $ CPFA Lluvia       : chr  \"NO\" \"NO\" \"NO\" \"NO\" ...\n",
    " $ CPFA Niebla       : chr  \"NO\" \"NO\" \"NO\" \"NO\" ...\n",
    " $ CPFA Seco         : chr  \"SI\" \"SI\" \"SI\" \"SI\" ...\n",
    " $ CPFA Nieve        : chr  \"NO\" \"NO\" \"NO\" \"NO\" ...\n",
    " $ CPSV Mojada       : chr  \"NO\" \"NO\" \"NO\" \"NO\" ...\n",
    " $ CPSV Aceite       : chr  \"NO\" \"NO\" \"NO\" \"NO\" ...\n",
    " $ CPSV Barro        : chr  \"NO\" \"NO\" \"NO\" \"NO\" ...\n",
    " $ CPSV Grava Suelta : chr  \"NO\" \"NO\" \"NO\" \"NO\" ...\n",
    " $ CPSV Hielo        : chr  \"NO\" \"NO\" \"NO\" \"NO\" ...\n",
    " $ CPSV Seca Y Limpia: chr  \"SI\" \"SI\" \"SI\" \"SI\" ...\n",
    " $ * Nº VICTIMAS     : num  1 2 2 1 1 1 1 1 1 1 ...\n",
    " $ TIPO ACCIDENTE    : chr  \"COLISIÓN DOBLE\" \"ATROPELLO\" \"ATROPELLO\" \"COLISIÓN DOBLE\" ...\n",
    " $ Tipo Vehiculo     : chr  \"BICICLETA\" \"BICICLETA\" \"BICICLETA\" \"BICICLETA\" ...\n",
    " $ TIPO PERSONA      : chr  \"CONDUCTOR\" \"CONDUCTOR\" \"CONDUCTOR\" \"CONDUCTOR\" ...\n",
    " $ SEXO              : chr  \"HOMBRE\" \"HOMBRE\" \"HOMBRE\" \"HOMBRE\" ...\n",
    " $ LESIVIDAD         : chr  \"HL\" \"HL\" \"HL\" \"HL\" ...\n",
    " $ Tramo Edad        : chr  \"DE 30 A 34 ANOS\" \"DE 25 A 29 AÑOS\" \"DE 40 A 44 AÑOS\" \"DE 50 A 54 AÑOS\" ..."
   ]
  },
  {
   "cell_type": "markdown",
   "metadata": {},
   "source": [
    "### Hacemos una copia de la tabla original para trabajar con los datos"
   ]
  },
  {
   "cell_type": "raw",
   "metadata": {},
   "source": [
    "accidente <- AccidentesBicicletas_2018"
   ]
  },
  {
   "cell_type": "markdown",
   "metadata": {},
   "source": [
    "### Elimninamos las columnas que creemos nosotros que no, nos van a ser necesarias para el tratamiento de datos."
   ]
  },
  {
   "cell_type": "raw",
   "metadata": {},
   "source": [
    "accidente$\"CPFA Lluvia\" <- NULL\n",
    "accidente$\"CPFA Granizo\" <- NULL\n",
    "accidente$\"CPFA Lluvia\" <- NULL\n",
    "accidente$\"CPFA Hielo\" <- NULL\n",
    "accidente$\"CPFA Niebla\" <- NULL\n",
    "accidente$\"CPFA Nieve\" <- NULL\n",
    "accidente$\"CPFA Mojada\" <- NULL\n",
    "accidente$\"CPFA Aceite\" <- NULL\n",
    "accidente$\"CPFA Barro\" <- NULL\n",
    "accidente$\"CPSV Mojada\" <- NULL\n",
    "accidente$\"CPSV Aceite\" <- NULL\n",
    "accidente$\"CPSV Barro\" <- NULL\n",
    "accidente$\"CPSV Grava Suelta\" <- NULL\n",
    "accidente$\"CPSV Hielo\" <- NULL\n",
    "accidente$\"Nº\" <- NULL\n",
    "accidente$\"CPSV Seca Y Limpia\" <- NULL\n",
    "accidente$LESIVIDAD <- NULL\n",
    "accidente$`CPFA Seco` <- NULL"
   ]
  },
  {
   "cell_type": "markdown",
   "metadata": {},
   "source": [
    "##### Con esta funcion dejamos la copia de la tabla con 12 variables"
   ]
  },
  {
   "cell_type": "raw",
   "metadata": {},
   "source": [
    "[1] \"FECHA\"           \"RANGO HORARIO\"   \"DIA SEMANA\"      \"DISTRITO\"        \"LUGAR ACCIDENTE\" \"Nº PARTE\"    \"Nº VICTIMAS\" \"TIPO ACCIDENTE\" \n",
    "[9] \"Tipo Vehiculo\"   \"TIPO PERSONA\"    \"SEXO\"            \"Tramo Edad\"   "
   ]
  },
  {
   "cell_type": "markdown",
   "metadata": {},
   "source": [
    "### Cambiamos el nombre a todos los nombres de las columnas "
   ]
  },
  {
   "cell_type": "raw",
   "metadata": {},
   "source": [
    "names(accidente) <- c(\"Fecha\", \"Rango Horario\", \"Dia Semana\", \"Distrito\", \"Lugar Accidente\", \"Numero Parte\",\"Numero Victimas\",\n",
    "                      \"Tipo Accidente\",\"Tipo Vehiculo\",\"Tipo Persona\",\"Sexo\",\"Tramo Edad\"  )"
   ]
  },
  {
   "cell_type": "markdown",
   "metadata": {},
   "source": [
    "### Con esta funcion lo que hemos sacado es la grafica y el numero de hombres y mujeres que han tenido accidentes."
   ]
  },
  {
   "cell_type": "raw",
   "metadata": {},
   "source": [
    "fsexo = as.factor(accidente$Sexo)\n",
    "fsexo\n",
    "levels(fsexo)\n",
    "summary(fsexo)\n",
    "plot(fsexo)"
   ]
  },
  {
   "cell_type": "markdown",
   "metadata": {},
   "source": [
    "###### CON UN TOTAL DE 547 HOMBRES, 142 MUJERES Y UN TOTAL DE 11 INDETERMINADOS "
   ]
  },
  {
   "cell_type": "markdown",
   "metadata": {},
   "source": [
    "### Con esta funcion hemos averiguado cual es el mayor rango horario de accidentes de bicicletas"
   ]
  },
  {
   "cell_type": "raw",
   "metadata": {},
   "source": [
    "fhoras = as.factor(accidente$`Rango Horario`)\n",
    "fhoras\n",
    "levels(fhoras)\n",
    "summary(fhoras)"
   ]
  },
  {
   "cell_type": "markdown",
   "metadata": {},
   "source": [
    "##### NOS HEMOS DADO CUENTA QUE EL RANGO HORARIO CON MAYOR NUMERO DE ACCIDENTES ES DE 19:00 A 19:50"
   ]
  },
  {
   "cell_type": "markdown",
   "metadata": {},
   "source": [
    "### Con esta funcion hemos cambiado el formato de la fecha a Dia, Mes y Año"
   ]
  },
  {
   "cell_type": "raw",
   "metadata": {},
   "source": [
    "fecha <- accidente$Fecha\n",
    "fecha\n",
    "format(fecha, format = \"%d/%m/%y\")"
   ]
  },
  {
   "cell_type": "markdown",
   "metadata": {},
   "source": [
    "##### El formato antiguo que presenta la tabla de datos es : 2018-01-01 / Aplicando la formula mencionada arriba arriba los datos quedan representados asi : \"01/01/18\""
   ]
  },
  {
   "cell_type": "markdown",
   "metadata": {},
   "source": [
    "### Organizamos la grafica de accidentes/dias de la semana correctamente de Lunes a Domingo, puesto que la original no llevaba un orden adecuado"
   ]
  },
  {
   "cell_type": "raw",
   "metadata": {},
   "source": [
    "# Realizamos la impresion de la grafica y nos damos cuenta de que estan desorganizados los dias de la semana\n",
    "\n",
    "fdia = as.factor(accidente$`Dia Semana`)\n",
    "fdia\n",
    "levels(fdia)\n",
    "summary(fdia)\n",
    "plot(fdia)\n",
    "\n",
    "# Para poder organizar los datos necesitamos cambiar a factor la variable: \n",
    "  \n",
    "fechas2 <- as.factor(accidente$`Dia Semana`)\n",
    "\n",
    "# ver como está ordenada\n",
    "levels(fechas2)\n",
    "\n",
    "# confirmar que tiene 7 niveles\n",
    "nlevels(fechas2)\n",
    "summary(fechas2)\n",
    "\n",
    "# ordenar correctamente\n",
    "fechas2 = factor(accidente$`Dia Semana`, levels = c(\"LUNES\", \"MARTES\", \"MIERCOLES\", \"JUEVES\", \"VIERNES\", \"SABADO\", \"DOMINGO\"))\n",
    "\n",
    "# confirmar que está ordenada\n",
    "levels(fechas2)\n",
    "summary(fechas2)\n",
    "plot(fechas2)\n"
   ]
  }
 ],
 "metadata": {
  "kernelspec": {
   "display_name": "Python 3",
   "language": "python",
   "name": "python3"
  },
  "language_info": {
   "codemirror_mode": {
    "name": "ipython",
    "version": 3
   },
   "file_extension": ".py",
   "mimetype": "text/x-python",
   "name": "python",
   "nbconvert_exporter": "python",
   "pygments_lexer": "ipython3",
   "version": "3.6.7"
  }
 },
 "nbformat": 4,
 "nbformat_minor": 2
}
