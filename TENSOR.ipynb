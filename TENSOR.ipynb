{
 "cells": [
  {
   "cell_type": "markdown",
   "metadata": {},
   "source": [
    "### CREAMOS LAS FUNCIONES\n",
    "#### FUNCIONES QUE ABRE EL ARCHIVO"
   ]
  },
  {
   "cell_type": "code",
   "execution_count": null,
   "metadata": {},
   "outputs": [],
   "source": [
    "def abreArchivo(nombre):\n",
    "    try: \n",
    "        fichero = (open(str(nombre)+'.txt', 'x')) \n",
    "        print('se ha CREADO el archivo') \n",
    "        fichero.close()\n",
    "        print('Se ha CERRADO el archivo')\n",
    "    except:\n",
    "        print('Archivo ya existe') \n",
    "    try: \n",
    "        fichero = (open(str(nombre)+'.txt', 'a')) \n",
    "        print('Archivo abierto en modo APPEND') \n",
    "    except Exception as e:\n",
    "        print('Se ha producido un Error al intentar ABRIR el archivo en modo APPEND\\n', e)\n",
    "    return fichero\n",
    "\n",
    "### Función que crea un archivo con un parametro str que le da nombre y que deja el archivo abierto en modo Append.\n",
    "\n",
    "### Try revisa que exista el archivo y sino lo crea.\n",
    "\n",
    "### Intentamos crear el archivo y nos dá un mensaje de exito o si existe uno de error.\n",
    "\n",
    "### Tras esto, lo abre en modo append y en caso positivo nos devuelve de nuevo el mensaje de exito, en caso de error nos devolverá el mensaje correspondiente\n",
    "\n",
    "### Finalmente nos devuelve el fichero."
   ]
  },
  {
   "cell_type": "markdown",
   "metadata": {},
   "source": [
    "#### FUNCION QUE CIERRA ARCHIVO"
   ]
  },
  {
   "cell_type": "code",
   "execution_count": null,
   "metadata": {},
   "outputs": [],
   "source": [
    "def cierraArchivo(nombre):\n",
    "    try:\n",
    "        nombre.close()\n",
    "        print('Se ha CERRADO el archivo')\n",
    "    except:\n",
    "        print('Error')\n",
    "### Pasa la variable entera para que la cierre o de mensaje de error\n",
    "\n"
   ]
  },
  {
   "cell_type": "markdown",
   "metadata": {},
   "source": [
    "#### FUNCION QUE SACA ATRIBUTOS"
   ]
  },
  {
   "cell_type": "code",
   "execution_count": null,
   "metadata": {},
   "outputs": [],
   "source": [
    "def saca_atributos(items):\n",
    "    x = len(items)-1\n",
    "    lista = []\n",
    "    while x >= 0:\n",
    "        lista.append(items[x]['attributes'])\n",
    "        x = x - 1\n",
    "    return lista\n",
    "\n",
    "### Esta función extrae los atributos mientras el item sea menor o igual a 0\n",
    "\n",
    "### Creamos un bucle que recorra todos los datos y creamos una lista vacia para introducir los datos solicitados en ella.\n",
    "\n",
    "### Mientras nuestra variable(objeto) sea cierta añadirá a la lista los datos extraidos.\n",
    "\n",
    "###Imprimimos la lista para mostrarla"
   ]
  },
  {
   "cell_type": "markdown",
   "metadata": {},
   "source": [
    "#### FUNCION QUE SACA LOS DATOS GEOMETRICOS Y LOS INSERTA CON EL OBKECT ID"
   ]
  },
  {
   "cell_type": "code",
   "execution_count": null,
   "metadata": {},
   "outputs": [],
   "source": [
    "def saca_geografia(items):\n",
    "    x = len(items)-1\n",
    "    diccionario = {}\n",
    "    while x >= 0:\n",
    "        a = items[x]['attributes']\n",
    "        b = items[x]['geometry']\n",
    "        diccionario['objectID'] = a['OBJECTID'] \n",
    "        diccionario['rings'] = b['rings']\n",
    "        x = x - 1\n",
    "    return diccionario\n",
    "\n",
    "###Esta función saca la geografía creando un diccionario vacío e introduciendo los datos que estan dentro de 'rings'.\n",
    "\n",
    "### A continuación nos devuelve los datos extraidos en un diccionario"
   ]
  },
  {
   "cell_type": "markdown",
   "metadata": {},
   "source": [
    "#### IMPORTAMOS REQUEST PARA HACER LAS LLAMADAS"
   ]
  },
  {
   "cell_type": "code",
   "execution_count": null,
   "metadata": {},
   "outputs": [],
   "source": [
    "import requests"
   ]
  },
  {
   "cell_type": "markdown",
   "metadata": {},
   "source": [
    "#### VARIABLES PARA BUCLES Y LLAMADAS"
   ]
  },
  {
   "cell_type": "code",
   "execution_count": 2,
   "metadata": {},
   "outputs": [],
   "source": [
    "i = 0\n",
    "limite = 2\n",
    "offset = 1\n",
    "count = 1\n",
    "### Las dos primeras variables son para controlar el while (controlan numero de veces que se repite el bucle) Las siguientes dos variables son para controlar el URL (controlan que pido en cada request)"
   ]
  },
  {
   "cell_type": "markdown",
   "metadata": {},
   "source": [
    "### HACEMOS LA LLAMADA PARA EXTRAER LOS DATOS\n",
    "#### PRIMERO DAMOS VALOR A CADA PARTE DE LA URL"
   ]
  },
  {
   "cell_type": "code",
   "execution_count": 1,
   "metadata": {},
   "outputs": [],
   "source": [
    "inicio = 'http://mapas.igme.es/gis/rest/services/Cartografia_Geologica/IGME_MAGNA_50/MapServer/10/query?'\n",
    "f ='f=json' \n",
    "where = '&where=(1%3D1)%20AND%20(1%3D1)' \n",
    "geometry = '&returnGeometry=true'\n",
    "spatial = '&spatialRel=esriSpatialRelIntersects' \n",
    "outfields = '&outFields=*' \n",
    "orderby = '&orderByFields=OBJECTID%20ASC'\n",
    "outSR = '&outSR=102100' \n",
    "resultOffset = '&resultOffset=1' \n",
    "resultRecord = '&resultRecordCount=2'"
   ]
  },
  {
   "cell_type": "markdown",
   "metadata": {},
   "source": [
    "#### Explicación de las equivalencias\n",
    "f = Formato en el que pasara los datos\n",
    "\n",
    "where = Condicion para la consulta\n",
    "\n",
    "geomtry = Si pasa la geometria o no\n",
    "\n",
    "orderby = El orden de la consulta\n",
    "\n",
    "resultOffset = Cuantas columnas desde el principio antes de empezar a imprimir\n",
    "\n",
    "resultRecord = Cuantas columnas imprimir"
   ]
  },
  {
   "cell_type": "markdown",
   "metadata": {},
   "source": [
    "#### Cantidad de columnas de la llamada\n",
    "resultOffset = '&resultOffset=1'\n",
    "\n",
    "El número 1 indica el comienzo de la consulta\n",
    "\n",
    "resultRecord = '&resultRecordCount=2'\n",
    "\n",
    "El número 2 indica la llamada a el número de columnas que escojamos\n",
    "\n"
   ]
  },
  {
   "cell_type": "markdown",
   "metadata": {},
   "source": [
    "### Generamos el archivo"
   ]
  },
  {
   "cell_type": "code",
   "execution_count": null,
   "metadata": {},
   "outputs": [],
   "source": [
    "BD_objetos = abreArchivo('BD_objetos')\n",
    "BD_atributos = abreArchivo('BD_atributos')\n",
    "BD_objGeograf = abreArchivo('BD_objGeograf')"
   ]
  },
  {
   "cell_type": "markdown",
   "metadata": {},
   "source": [
    "Generamos los 3 ficheros que necesitamos con objetos, atributos y Geografía\n",
    "\n"
   ]
  },
  {
   "cell_type": "markdown",
   "metadata": {},
   "source": [
    "### Extracción a fichero¶\n"
   ]
  },
  {
   "cell_type": "code",
   "execution_count": null,
   "metadata": {},
   "outputs": [],
   "source": [
    "while i < limite:\n",
    "    url = inicio+f+where+geometry+spatial+outfields+orderby+outSR+resultOffset+str(offset)+resultRecord+str(count)\n",
    "    res = requests.get(url)\n",
    "    data = res.json()\n",
    "    items = data['features']\n",
    "    \n",
    "    BD_objetos.write(str(items)) \n",
    "\n",
    "    atributos = saca_atributos(items)\n",
    "    BD_atributos.write(str(atributos))\n",
    "                     \n",
    "    geografia = saca_geografia(items)\n",
    "    BD_objGeograf.write(str(geografia))\n",
    "                     \n",
    "    print(offset) \n",
    "    offset += 1 \n",
    "    i += 1"
   ]
  },
  {
   "cell_type": "markdown",
   "metadata": {},
   "source": [
    "#### Creamos un bucle que itere por la cantidad de archivos que hayamos especificado\n",
    "\n",
    "1. Unimos todos los valores en una URL\n",
    "2. Hacemos una llamada en formato JSON y pedimos los datos\n",
    "3. Solicitamos los datos dentro de 'features'\n",
    "4. Escribimos los datos en el archivo en formato string\n",
    "5. Utilizamos la función que saca los atributos y los escribe igual que el anterior\n",
    "6. Usamos la función geografía y hará el mismo proceso\n",
    "7. Imprimimos un contador de control para log\n",
    "8. Aumentamos el offset para pasar al proximo item\n",
    "9. Finalmente aumentamos el control del bucle"
   ]
  },
  {
   "cell_type": "markdown",
   "metadata": {},
   "source": [
    "\n",
    "### Cerramos los archivos"
   ]
  },
  {
   "cell_type": "code",
   "execution_count": null,
   "metadata": {},
   "outputs": [],
   "source": [
    "cierraArchivo(BD_objetos)\n",
    "cierraArchivo(BD_atributos)\n",
    "cierraArchivo(BD_objGeograf)"
   ]
  },
  {
   "cell_type": "markdown",
   "metadata": {},
   "source": [
    "## Seguidamente, vamos a usar la información geográfica de cada litología para representar los polígonos correspondientes sobre un mapa"
   ]
  },
  {
   "cell_type": "code",
   "execution_count": null,
   "metadata": {},
   "outputs": [],
   "source": [
    "### En primer lugar, vamos a instalar las librerías necesarias. \n",
    "### folium para representar el mapa, y proj para transformar las coordenadas.\n",
    "\n",
    "import folium\n",
    "from pyproj import Proj, transform"
   ]
  },
  {
   "cell_type": "markdown",
   "metadata": {},
   "source": [
    "### Llamamos a la API y obtenemos toda la info sobre un objeto de nuestra DB"
   ]
  },
  {
   "cell_type": "code",
   "execution_count": null,
   "metadata": {},
   "outputs": [],
   "source": [
    "# SACO DATOS\n",
    "\n",
    "import requests\n",
    "\n",
    "inicio = 'http://mapas.igme.es/gis/rest/services/Cartografia_Geologica/IGME_MAGNA_50/MapServer/10/query?'\n",
    "f ='f=json' #Formato en el que pasara los datos\n",
    "where = '&where=(1%3D1)%20AND%20(1%3D1)' #condicion para la consulta\n",
    "geometry = '&returnGeometry=true'#si pasa la geometria o no\n",
    "spatial = '&spatialRel=esriSpatialRelIntersects' #AVERIGUAR\n",
    "outfields = '&outFields=*' #AVERIGUAR\n",
    "orderby = '&orderByFields=OBJECTID%20ASC' #como viene ordenada la consulta\n",
    "outSR = '&outSR=102100' #AVERIGUAR\n",
    "resultOffset = '&resultOffset=250500' #cuantas columnas desde el principio antes de empezar a imprimir\n",
    "resultRecord = '&resultRecordCount=1' #cuantas columnas imprimir\n",
    "\n",
    "url = inicio+f+where+geometry+spatial+outfields+orderby+outSR+resultOffset+resultRecord\n",
    "    \n",
    "res = requests.get(url)\n",
    "data = res.json()\n",
    "item = data['features']\n",
    "item"
   ]
  },
  {
   "cell_type": "markdown",
   "metadata": {},
   "source": [
    "### Podemos ver que la información obtenida (que anteriormente hemos reunido en los archivos finales BD_objetos, BD_atributos y BD_objGeograf) contiene 5 variables:\n",
    "#### Hoja : El número de hoja en la clasificación MAGNA en la que se encuentra el objeto requerido\n",
    "#### DLO : Descripción litológica. Descripción de la unidad rocosa correspondiente al objeto en cuestión\n",
    "#### ObjectID: Identificador de tipo de objeto dentro de la API\n",
    "#### ID: Identificador de DLO\n",
    "#### geometry: siguiendo un modelo ESRI, cada objeto tiene un 'ring' asociado. Cada ring se compone de una lista indefinida de puntos que, unidos entre sí, marcan la limitación geográfica del objeto solicitado.\n",
    "### A continuación, limpiamos los datos para poder trabajar con las geometrías en solitario"
   ]
  },
  {
   "cell_type": "code",
   "execution_count": null,
   "metadata": {},
   "outputs": [],
   "source": [
    "# SEPARO LA LISTA DE RINGS\n",
    "\n",
    "rings = item[0]['geometry']\n",
    "target = rings['rings']\n",
    "target"
   ]
  },
  {
   "cell_type": "markdown",
   "metadata": {},
   "source": [
    "## Seguidamente, transformamos las coordenadas en un formato manejable. La API nos las suministra en pseudo-mercator, y las transformamos al modelo (latitud , longitud) que pueda leer folium."
   ]
  },
  {
   "cell_type": "code",
   "execution_count": null,
   "metadata": {},
   "outputs": [],
   "source": [
    "# RECORRO LA LISTA Y TRANSFORMO EL FORMATO DE LAS COORDENADAS\n",
    "\n",
    "inProj = Proj(init='epsg:3857')\n",
    "outProj = Proj(init='epsg:4326')\n",
    "lista = target[0]\n",
    "convertidas = []\n",
    "a = 0\n",
    "\n",
    "while a < len(lista):\n",
    "    x1,y1 = lista[a]\n",
    "    punto = transform(inProj,outProj,x1,y1)\n",
    "    convertidas.append(punto)\n",
    "    a += 1\n",
    "\n",
    "convertidas"
   ]
  },
  {
   "cell_type": "markdown",
   "metadata": {},
   "source": [
    "### Además, invertimos los datos para que las coordenadas tengan coherencia"
   ]
  },
  {
   "cell_type": "code",
   "execution_count": null,
   "metadata": {},
   "outputs": [],
   "source": [
    "#INVERTIR TUPLAS\n",
    "\n",
    "b = 0\n",
    "coordenadas = []\n",
    "\n",
    "while b < len(convertidas):\n",
    "    punto1 = convertidas[b][1]\n",
    "    punto2 = convertidas[b][0]\n",
    "    entrar = (punto1, punto2)\n",
    "    coordenadas.append(entrar)\n",
    "    b += 1\n",
    "\n",
    "coordenadas"
   ]
  },
  {
   "cell_type": "markdown",
   "metadata": {},
   "source": [
    "### Finalmente, mandamos la lista de coordenadas a folium para poder representar (en rojo) el polígono correspondiente al objeto solicitado. Añadimos a mano un popup descriptivo de la zona en cuestión (más adelante lo relacionaremos directamente con la DLO)."
   ]
  },
  {
   "cell_type": "code",
   "execution_count": null,
   "metadata": {},
   "outputs": [],
   "source": [
    "#PRUEBA DE DIBUJO\n",
    "m = folium.Map(location = coordenadas[0], zoom_start=16)\n",
    "\n",
    "folium.Polygon(coordenadas, color=\"red\", weight=2.5, fill_color='red', opacity=10, popup = 'Arcillas y limos. Zona endorreica').add_to(m)\n",
    "\n",
    "m"
   ]
  },
  {
   "cell_type": "markdown",
   "metadata": {},
   "source": [
    "# ANEXOS"
   ]
  },
  {
   "cell_type": "markdown",
   "metadata": {},
   "source": [
    "## INTENTO DE WEBSCRAPING"
   ]
  },
  {
   "cell_type": "markdown",
   "metadata": {},
   "source": [
    "### Importamos los paquetes\n"
   ]
  },
  {
   "cell_type": "code",
   "execution_count": null,
   "metadata": {},
   "outputs": [],
   "source": [
    "import requests\n",
    "from bs4 import BeautifulSoup"
   ]
  },
  {
   "cell_type": "markdown",
   "metadata": {},
   "source": [
    "### Creamos un bucle para extraer la información de los PDF online¶\n"
   ]
  },
  {
   "cell_type": "code",
   "execution_count": null,
   "metadata": {},
   "outputs": [],
   "source": [
    "for numero in [1,2]:\n",
    "    URL = 'http://info.igme.es/cartografiadigital/datos/magna50/pdfs/d0_G50/Magna50_'+str(numero)+'.pdf'\n",
    "    page = requests.get(URL)\n",
    "    #page.enconding()\n",
    "    soup = BeautifulSoup(page.content,'html.parser')#.decode('utf-8','WinAnsiEncoding')\n",
    "    print(page.content)\n",
    "    \n",
    "soup = BeautifulSoup(page.content,'html.parser')\n",
    "hojas = soup.find_all('td', class_='EnlaceMini')\n",
    "hojas"
   ]
  }
 ],
 "metadata": {
  "kernelspec": {
   "display_name": "Python 3",
   "language": "python",
   "name": "python3"
  },
  "language_info": {
   "codemirror_mode": {
    "name": "ipython",
    "version": 3
   },
   "file_extension": ".py",
   "mimetype": "text/x-python",
   "name": "python",
   "nbconvert_exporter": "python",
   "pygments_lexer": "ipython3",
   "version": "3.6.7"
  }
 },
 "nbformat": 4,
 "nbformat_minor": 2
}
